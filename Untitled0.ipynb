{
  "nbformat": 4,
  "nbformat_minor": 0,
  "metadata": {
    "colab": {
      "provenance": [],
      "include_colab_link": true
    },
    "kernelspec": {
      "name": "python3",
      "display_name": "Python 3"
    },
    "language_info": {
      "name": "python"
    }
  },
  "cells": [
    {
      "cell_type": "markdown",
      "metadata": {
        "id": "view-in-github",
        "colab_type": "text"
      },
      "source": [
        "<a href=\"https://colab.research.google.com/github/jsalas1514/ESTRUCTURA_DATOS/blob/main/Untitled0.ipynb\" target=\"_parent\"><img src=\"https://colab.research.google.com/assets/colab-badge.svg\" alt=\"Open In Colab\"/></a>"
      ]
    },
    {
      "cell_type": "code",
      "execution_count": null,
      "metadata": {
        "id": "Jww9dOwViYM2"
      },
      "outputs": [],
      "source": [
        "class Persona:\n",
        "    def __init__(self, nombre, edad, genero):\n",
        "        self.nombre = nombre\n",
        "        self.edad = edad\n",
        "        self.genero = genero\n",
        "\n",
        "    def presentarse(self):\n",
        "        print(f\"Hola, me llamo {self.nombre}, tengo {self.edad} años y soy {self.genero}.\")\n",
        "\n",
        "class Estudiante(Persona):\n",
        "    def __init__(self, nombre, edad, genero, carrera):\n",
        "        super().__init__(nombre, edad, genero)\n",
        "        self.carrera = carrera\n",
        "\n",
        "    def estudiar(self):\n",
        "        print(f\"Estoy estudiando {self.carrera}.\")\n",
        "\n",
        "class Trabajador(Persona):\n",
        "    def __init__(self, nombre, edad, genero, profesion):\n",
        "        super().__init__(nombre, edad, genero)\n",
        "        self.profesion = profesion\n",
        "\n",
        "    def trabajar(self):\n",
        "        print(f\"Estoy trabajando como {self.profesion}.\")\n",
        "\n",
        "\n",
        "estudiante1 = Estudiante(\"Juanita\", 16, \"Femenino\", \"Ingeniería en sistemas\")\n",
        "trabajador1 = Trabajador(\"Juancho\", 35, \"Masculino\", \"enfermero\")\n",
        "\n",
        "\n",
        "estudiante1.presentarse()\n",
        "estudiante1.estudiar()\n",
        "\n",
        "trabajador1.presentarse()\n",
        "trabajador1.trabajar()"
      ]
    },
    {
      "cell_type": "code",
      "source": [],
      "metadata": {
        "id": "A_Omn98NyE5t"
      },
      "execution_count": null,
      "outputs": []
    },
    {
      "cell_type": "code",
      "source": [
        "datos = []\n",
        "\n",
        "for i in range(10):\n",
        "    dato = input(f\"Ingrese el dato {i+1}: \")\n",
        "    datos.append(dato)\n",
        "\n",
        "print(\"Datos originales:\", datos)\n",
        "\n",
        "posiciones_a_cambiar = [2, 4, 7, 10]\n",
        "for posicion in posiciones_a_cambiar:\n",
        "    nuevo_dato = input(f\"Ingrese el nuevo dato para la posición {posicion}: \")\n",
        "    datos[posicion-1] = nuevo_dato\n",
        "\n",
        "print(\"Datos modificados:\", datos)"
      ],
      "metadata": {
        "colab": {
          "base_uri": "https://localhost:8080/"
        },
        "id": "0YVy_zp4pSSI",
        "outputId": "42f92121-453b-4002-f8c9-4d22e85ee3c8"
      },
      "execution_count": null,
      "outputs": [
        {
          "output_type": "stream",
          "name": "stdout",
          "text": [
            "Ingrese el dato 1: 4\n",
            "Ingrese el dato 2: 5\n",
            "Ingrese el dato 3: 6\n",
            "Ingrese el dato 4: 1\n",
            "Ingrese el dato 5: /8\n",
            "Ingrese el dato 6: 4\n",
            "Ingrese el dato 7: 65\n",
            "Ingrese el dato 8: 6\n",
            "Ingrese el dato 9: 8\n",
            "Ingrese el dato 10: 7\n",
            "Datos originales: ['4', '5', '6', '1', '/8', '4', '65', '6', '8', '7']\n",
            "Ingrese el nuevo dato para la posición 2: 8\n",
            "Ingrese el nuevo dato para la posición 4: 9\n",
            "Ingrese el nuevo dato para la posición 7: 4\n",
            "Ingrese el nuevo dato para la posición 10: 9\n",
            "Datos modificados: ['4', '8', '6', '9', '/8', '4', '4', '6', '8', '9']\n"
          ]
        }
      ]
    }
  ]
}