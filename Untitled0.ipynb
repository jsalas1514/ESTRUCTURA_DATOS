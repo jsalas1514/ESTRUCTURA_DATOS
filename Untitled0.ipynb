{
  "nbformat": 4,
  "nbformat_minor": 0,
  "metadata": {
    "colab": {
      "provenance": [],
      "authorship_tag": "ABX9TyOOKcJcu/0zq8SbO3fDfTGq",
      "include_colab_link": true
    },
    "kernelspec": {
      "name": "python3",
      "display_name": "Python 3"
    },
    "language_info": {
      "name": "python"
    }
  },
  "cells": [
    {
      "cell_type": "markdown",
      "metadata": {
        "id": "view-in-github",
        "colab_type": "text"
      },
      "source": [
        "<a href=\"https://colab.research.google.com/github/jsalas1514/ESTRUCTURA_DATOS/blob/main/Untitled0.ipynb\" target=\"_parent\"><img src=\"https://colab.research.google.com/assets/colab-badge.svg\" alt=\"Open In Colab\"/></a>"
      ]
    },
    {
      "cell_type": "code",
      "execution_count": null,
      "metadata": {
        "id": "wv8c2wyCGyAl"
      },
      "outputs": [],
      "source": [
        "\n",
        "class Nodo:\n",
        "    def __init__(self, id, nombre, semestre):\n",
        "        self.id = id\n",
        "        self.nombre = nombre\n",
        "        self.semestre = semestre\n",
        "        self.anterior = None\n",
        "        self.siguiente = None\n",
        "\n",
        "class ListaDoblementeEnlazada:\n",
        "    def __init__(self):\n",
        "        self.cabeza = None\n",
        "        self.cola = None\n",
        "\n",
        "    def insertar_al_final(self, id, nombre, semestre):\n",
        "        nuevo_nodo = Nodo(id, nombre, semestre)\n",
        "        if self.cabeza is None:\n",
        "            self.cabeza = self.cola = nuevo_nodo\n",
        "        else:\n",
        "            self.cola.siguiente = nuevo_nodo\n",
        "            nuevo_nodo.anterior = self.cola\n",
        "            self.cola = nuevo_nodo\n",
        "\n",
        "    def imprimir_adelante(self):\n",
        "        actual = self.cabeza\n",
        "        while actual:\n",
        "            print(f\"ID: {actual.id}, Nombre: {actual.nombre}, Semestre: {actual.semestre}\")\n",
        "            actual = actual.siguiente\n",
        "\n",
        "    def imprimir_atras(self):\n",
        "        actual = self.cola\n",
        "        while actual:\n",
        "            print(f\"ID: {actual.id}, Nombre: {actual.nombre}, Semestre: {actual.semestre}\")\n",
        "            actual = actual.anterior\n",
        "\n",
        "    def ordenar_por_id(self):\n",
        "        # Convertir la lista en una lista de Python para ordenar\n",
        "        nodos = []\n",
        "        actual = self.cabeza\n",
        "        while actual:\n",
        "            nodos.append((actual.id, actual.nombre, actual.semestre))\n",
        "            actual = actual.siguiente\n",
        "        nodos.sort()\n",
        "\n",
        "        # Reconstruir la lista ordenada\n",
        "        self.cabeza = self.cola = None\n",
        "        for id, nombre, semestre in nodos:\n",
        "            self.insertar_al_final(id, nombre, semestre)\n",
        "\n",
        "# Ejemplo de uso\n",
        "lista = ListaDoblementeEnlazada()\n",
        "lista.insertar_al_final(123, \"Juan Perez\", 3)\n",
        "lista.insertar_al_final(456, \"Ana Garcia\", 2)\n",
        "\n",
        "print(\"Imprimiendo de adelante hacia atrás:\")\n",
        "lista.imprimir_adelante()\n",
        "\n",
        "print(\"\\nImprimiendo de atrás hacia adelante:\")\n",
        "lista.imprimir_atras()\n",
        "\n",
        "print(\"\\nOrdenando la lista por ID:\")\n",
        "lista.ordenar_por_id()\n",
        "\n",
        "print(\"\\nImprimiendo la lista ordenada de adelante hacia atrás:\")\n",
        "lista.imprimir_adelante()"
      ]
    }
  ]
}