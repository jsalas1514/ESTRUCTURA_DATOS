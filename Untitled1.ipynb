{
  "nbformat": 4,
  "nbformat_minor": 0,
  "metadata": {
    "colab": {
      "provenance": [],
      "authorship_tag": "ABX9TyM+68wTp8urjFSJ1txGc8uE",
      "include_colab_link": true
    },
    "kernelspec": {
      "name": "python3",
      "display_name": "Python 3"
    },
    "language_info": {
      "name": "python"
    }
  },
  "cells": [
    {
      "cell_type": "markdown",
      "metadata": {
        "id": "view-in-github",
        "colab_type": "text"
      },
      "source": [
        "<a href=\"https://colab.research.google.com/github/jsalas1514/ESTRUCTURA_DATOS/blob/main/Untitled1.ipynb\" target=\"_parent\"><img src=\"https://colab.research.google.com/assets/colab-badge.svg\" alt=\"Open In Colab\"/></a>"
      ]
    },
    {
      "cell_type": "markdown",
      "source": [
        "1.Crea una tupla con los siguientes elementos: \"apple\", \"banana\", \"cherry\", \"date\", \"fig\", \"grape\". Imprime la tupla y el número de elementos que contiene."
      ],
      "metadata": {
        "id": "SS8Ih1prjHrQ"
      }
    },
    {
      "cell_type": "code",
      "source": [
        "frutas=(\"apple\",\"banana\",\"cherry\",\"date\",\"fig\",\"grape\")\n",
        "print(\"tupla\",frutas)\n",
        "print(\"El numero ded elemento es:\",len(frutas))"
      ],
      "metadata": {
        "colab": {
          "base_uri": "https://localhost:8080/"
        },
        "id": "2ZH_LZVPjJLZ",
        "outputId": "bdba9c8e-0309-42c7-b99e-485a404a4f81"
      },
      "execution_count": 1,
      "outputs": [
        {
          "output_type": "stream",
          "name": "stdout",
          "text": [
            "tupla ('apple', 'banana', 'cherry', 'date', 'fig', 'grape')\n",
            "El numero ded elemento es: 6\n"
          ]
        }
      ]
    },
    {
      "cell_type": "markdown",
      "source": [
        "2.Dada la tupla fruits = (\"apple\", \"banana\", \"cherry\", \"date\", \"fig\", \"grape\"), accede e imprime el tercer elemento de la tupla."
      ],
      "metadata": {
        "id": "X61UIcSTj7Z3"
      }
    },
    {
      "cell_type": "code",
      "source": [
        "tercer_elemento = frutas[2]\n",
        "print(\"el tercer elemento de la tupla es:\", tercer_elemento)"
      ],
      "metadata": {
        "colab": {
          "base_uri": "https://localhost:8080/"
        },
        "id": "z44BPJYIjJgo",
        "outputId": "d2dfb5f8-d2f6-44e7-c36b-3c85a8eca9e5"
      },
      "execution_count": 2,
      "outputs": [
        {
          "output_type": "stream",
          "name": "stdout",
          "text": [
            "el tercer elemento de la tupla es: cherry\n"
          ]
        }
      ]
    },
    {
      "cell_type": "markdown",
      "source": [
        "3.Dada la tupla colors = (\"red\", \"green\", \"blue\"), desempaqueta sus valores en tres variables y luego imprime cada variable."
      ],
      "metadata": {
        "id": "UmnGeNZrnPGK"
      }
    },
    {
      "cell_type": "code",
      "source": [
        "colors=(\"red\",\"green\",\"blue\")\n",
        "\n",
        "\n",
        "color_1, color_2, color_3=colors\n",
        "print(\"Color 1:\", color_1)\n",
        "print(\"Color 2:\", color_2)\n",
        "print(\"Color 3:\", color_3)"
      ],
      "metadata": {
        "colab": {
          "base_uri": "https://localhost:8080/"
        },
        "id": "uMXtFuSgjJ1h",
        "outputId": "e4abff52-0302-4858-fd20-e5deae29326b"
      },
      "execution_count": 4,
      "outputs": [
        {
          "output_type": "stream",
          "name": "stdout",
          "text": [
            "Color 1: red\n",
            "Color 2: green\n",
            "Color 3: blue\n"
          ]
        }
      ]
    },
    {
      "cell_type": "markdown",
      "source": [
        "4.Crea dos tuplas, una con los números (1, 2, 3) y otra con los números (4, 5, 6). Concatenálas en una sola tupla y muestra el resultado"
      ],
      "metadata": {
        "id": "P0us98ISjJ-Q"
      }
    },
    {
      "cell_type": "code",
      "source": [
        "numeros1=(1,2,3)\n",
        "numeros2=(4,5,6)\n",
        "print(\"Tupla_Concatenada\", numeros1+numeros2)"
      ],
      "metadata": {
        "colab": {
          "base_uri": "https://localhost:8080/"
        },
        "id": "eKB5UVXAjKIw",
        "outputId": "b5702c73-c599-4c77-c551-a58131b484a9"
      },
      "execution_count": 19,
      "outputs": [
        {
          "output_type": "stream",
          "name": "stdout",
          "text": [
            "Tupla_Concatenada (1, 2, 3, 4, 5, 6)\n"
          ]
        }
      ]
    },
    {
      "cell_type": "markdown",
      "source": [
        "5.Crea una tupla con el elemento \"repeat\" y repítela 4 veces. Imprime el resultado."
      ],
      "metadata": {
        "id": "jkx6YBV4jKQw"
      }
    },
    {
      "cell_type": "code",
      "source": [
        "tupla=(\"repeat\",)\n",
        "tupla_repetida = tupla*4\n",
        "print(\"Tupla que se repite:\", tupla_repetida)"
      ],
      "metadata": {
        "colab": {
          "base_uri": "https://localhost:8080/"
        },
        "id": "umJ5zy0PjKcw",
        "outputId": "18d10247-1925-4945-ecd7-3741647c0e77"
      },
      "execution_count": 10,
      "outputs": [
        {
          "output_type": "stream",
          "name": "stdout",
          "text": [
            "Tupla que se repite: ('repeat', 'repeat', 'repeat', 'repeat')\n"
          ]
        }
      ]
    },
    {
      "cell_type": "markdown",
      "source": [
        "6.Dada la tupla numbers = (10, 20, 30, 40, 50), utiliza un bucle for para iterar sobre la tupla e imprimir cada número."
      ],
      "metadata": {
        "id": "JMjYn5jOjKkg"
      }
    },
    {
      "cell_type": "code",
      "source": [
        "numbers=(10,20,30,40,50)\n",
        "\n",
        "\n",
        "for number in numbers:\n",
        "    print(number)"
      ],
      "metadata": {
        "colab": {
          "base_uri": "https://localhost:8080/"
        },
        "id": "lsBeeOkxjKvA",
        "outputId": "00759ddd-0ba3-4ab2-c52d-9a2c50d7c7f8"
      },
      "execution_count": 11,
      "outputs": [
        {
          "output_type": "stream",
          "name": "stdout",
          "text": [
            "10\n",
            "20\n",
            "30\n",
            "40\n",
            "50\n"
          ]
        }
      ]
    },
    {
      "cell_type": "markdown",
      "source": [
        "7.Crea una tupla que contenga otras dos tuplas: tuple1 = (1, 2, 3) y tuple2 = (\"a\", \"b\", \"c\"). Imprime la tupla anidada."
      ],
      "metadata": {
        "id": "MeNUaY_EjK2k"
      }
    },
    {
      "cell_type": "code",
      "source": [
        "tuple1 = (1, 2, 3)\n",
        "tuple2 = (\"a\", \"b\", \"c\")\n",
        "\n",
        "\n",
        "tupla_anidada = (tuple1, tuple2)\n",
        "print(\"Tupla anidada:\", tupla_anidada)"
      ],
      "metadata": {
        "colab": {
          "base_uri": "https://localhost:8080/"
        },
        "id": "tuS8tDBAjLNh",
        "outputId": "736cf2cd-0c38-426b-e322-a4d4ef9e025d"
      },
      "execution_count": 12,
      "outputs": [
        {
          "output_type": "stream",
          "name": "stdout",
          "text": [
            "Tupla anidada: ((1, 2, 3), ('a', 'b', 'c'))\n"
          ]
        }
      ]
    },
    {
      "cell_type": "markdown",
      "source": [
        "8.Dada la tupla letters = (\"a\", \"b\", \"c\", \"d\"), verifica si la letra \"e\" está en la tupla e imprime un mensaje apropiado."
      ],
      "metadata": {
        "id": "9WcKOiJpjLVw"
      }
    },
    {
      "cell_type": "code",
      "source": [
        "letters = (\"a\", \"b\", \"c\", \"d\")\n",
        "\n",
        "\n",
        "if \"e\" in letters:\n",
        "    print(\"La letra 'e' estápertenece a la tupla.\")\n",
        "else:\n",
        "    print(\"La letra 'e' no pertenece a la tupla.\")\n",
        ""
      ],
      "metadata": {
        "colab": {
          "base_uri": "https://localhost:8080/"
        },
        "id": "Amz5u8atjLgR",
        "outputId": "002bdc26-d811-4c00-d57f-c064d984f52e"
      },
      "execution_count": 13,
      "outputs": [
        {
          "output_type": "stream",
          "name": "stdout",
          "text": [
            "La letra 'e' no pertenece a la tupla.\n"
          ]
        }
      ]
    },
    {
      "cell_type": "markdown",
      "source": [
        "9.Convierte la lista my_list = [100, 200, 300, 400] a una tupla e imprime la tupla resultante."
      ],
      "metadata": {
        "id": "WCOHYHZ4jLoI"
      }
    },
    {
      "cell_type": "code",
      "source": [
        "my_list = [100, 200, 300, 400]\n",
        "\n",
        "\n",
        "my_tuple = tuple(my_list)\n",
        "\n",
        "\n",
        "print(\"mi tupla:\", my_tuple)\n",
        ""
      ],
      "metadata": {
        "colab": {
          "base_uri": "https://localhost:8080/"
        },
        "id": "psx6LDbxjLwA",
        "outputId": "97fd3f00-ca14-4e41-e298-12a2aa9a0b41"
      },
      "execution_count": 15,
      "outputs": [
        {
          "output_type": "stream",
          "name": "stdout",
          "text": [
            "mi tupla: (100, 200, 300, 400)\n"
          ]
        }
      ]
    },
    {
      "cell_type": "markdown",
      "source": [
        "10.Dada la tupla my_tuple = (5, 10, 15, 20, 25, 30, 35), imprime el valor en el índice 2 y una sub-tupla que contenga los elementos desde el índice 1 hasta el 4."
      ],
      "metadata": {
        "id": "hgHPrRIPjL1Q"
      }
    },
    {
      "cell_type": "code",
      "execution_count": 18,
      "metadata": {
        "id": "odq45BI_iUDW",
        "colab": {
          "base_uri": "https://localhost:8080/"
        },
        "outputId": "dfae9f91-f277-4466-be2a-672979dffebe"
      },
      "outputs": [
        {
          "output_type": "stream",
          "name": "stdout",
          "text": [
            "Valor en el índice 2: 10\n",
            "Sub-tupla desde el índice 1 hasta el 4: (10, 15, 20)\n"
          ]
        }
      ],
      "source": [
        "my_tuple = (5, 10, 15, 20, 25, 30, 35)\n",
        "\n",
        "print(\"Valor en el índice 2:\", my_tuple[1])\n",
        "\n",
        "sub_tuple = my_tuple[1:4]\n",
        "\n",
        "print(\"Sub-tupla desde el índice 1 hasta el 4:\", sub_tuple)\n",
        ""
      ]
    }
  ]
}