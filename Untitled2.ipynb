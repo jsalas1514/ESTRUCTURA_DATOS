{
  "nbformat": 4,
  "nbformat_minor": 0,
  "metadata": {
    "colab": {
      "provenance": [],
      "authorship_tag": "ABX9TyPqLz8c2VAugyvbrvgFtqtE",
      "include_colab_link": true
    },
    "kernelspec": {
      "name": "python3",
      "display_name": "Python 3"
    },
    "language_info": {
      "name": "python"
    }
  },
  "cells": [
    {
      "cell_type": "markdown",
      "metadata": {
        "id": "view-in-github",
        "colab_type": "text"
      },
      "source": [
        "<a href=\"https://colab.research.google.com/github/jsalas1514/ESTRUCTURA_DATOS/blob/main/Untitled2.ipynb\" target=\"_parent\"><img src=\"https://colab.research.google.com/assets/colab-badge.svg\" alt=\"Open In Colab\"/></a>"
      ]
    },
    {
      "cell_type": "markdown",
      "source": [
        "1. dada una lista de números [100,30,20], conviértela a una tupla y luego regresa la tupla a una lista. Imprimir la lista final"
      ],
      "metadata": {
        "id": "Sayl5jSu3hM2"
      }
    },
    {
      "cell_type": "code",
      "source": [
        "numeros = [100,30,20]\n",
        "tupla_numeros = tuple(numeros)\n",
        "lista_numeros = list(tupla_numeros)\n",
        "print(lista_numeros)"
      ],
      "metadata": {
        "colab": {
          "base_uri": "https://localhost:8080/"
        },
        "id": "Ng-0ziIA3iCl",
        "outputId": "e1c9534c-7579-422c-f493-9981aff4f4cd"
      },
      "execution_count": 1,
      "outputs": [
        {
          "output_type": "stream",
          "name": "stdout",
          "text": [
            "[100, 30, 20]\n"
          ]
        }
      ]
    },
    {
      "cell_type": "markdown",
      "source": [
        "2. Dada una tupla de camisas , debe crear un diccionario de precios por cada camisa. Luego almacene las camisas y precios y condicione si la lista de precios es mayor a 100"
      ],
      "metadata": {
        "id": "EPv0b-kt5MgU"
      }
    },
    {
      "cell_type": "code",
      "source": [
        "camisas = (\"roja\", \"azul\", \"verde\", \"amarillo\", \"rosa\")\n",
        "precios = {camisa: precio for camisa, precio in zip(camisas, [150, 90, 100, 200, 101]) }\n",
        "for camisa, precio in precios.items():\n",
        "    if precio > 100:\n",
        "        print(f'{camisa}: ${precio}')\n",
        "\n",
        "\n"
      ],
      "metadata": {
        "colab": {
          "base_uri": "https://localhost:8080/"
        },
        "id": "-6S_XWYH5Rey",
        "outputId": "dff2aecd-cdf5-4e2a-ea42-cb8016f957d7"
      },
      "execution_count": 17,
      "outputs": [
        {
          "output_type": "stream",
          "name": "stdout",
          "text": [
            "roja: $150\n",
            "amarillo: $200\n",
            "rosa: $101\n"
          ]
        }
      ]
    },
    {
      "cell_type": "markdown",
      "source": [
        "3. Dada una lista de plalabras [\"manzana\", \"banana\", \"manzana\", \"pera\" , \"banana\"], cuenta cuántas veces aparece cada palabra y almacena los resultados."
      ],
      "metadata": {
        "id": "im5sQqB2CR8r"
      }
    },
    {
      "cell_type": "code",
      "source": [
        "palabras = [\"manzana\", \"banana\", \"manzana\", \"pera\" , \"banana\"]\n",
        "contador = {}\n",
        "for palabra in palabras:\n",
        "    if palabra in contador:\n",
        "        contador[palabra] += 1\n",
        "    else:\n",
        "        contador[palabra] = 1\n",
        "print(contador)\n",
        ""
      ],
      "metadata": {
        "colab": {
          "base_uri": "https://localhost:8080/"
        },
        "id": "l-nyIT0gCbrS",
        "outputId": "a8db94a7-19dc-4c09-9d6e-08038af3a1cf"
      },
      "execution_count": 28,
      "outputs": [
        {
          "output_type": "stream",
          "name": "stdout",
          "text": [
            "{'manzana': 2, 'banana': 2, 'pera': 1}\n"
          ]
        }
      ]
    },
    {
      "cell_type": "markdown",
      "source": [
        "4. Crear un programa que permita al usuario almacenar datos enteros en una matriz y esos datos se sumen y luego realice su respectivo promedio."
      ],
      "metadata": {
        "id": "j7-gqs0fEzxW"
      }
    },
    {
      "cell_type": "code",
      "source": [
        "cantidad_numeros = int(input(\"Ingrese la cantidad de números: \"))\n",
        "\n",
        "numeros = []\n",
        "\n",
        "for i in range(cantidad_numeros):\n",
        "  numero = int(input(f\"Ingrese el número {i+1}: \"))\n",
        "  numeros.append(numero)\n",
        "\n",
        "suma = sum(numeros)\n",
        "\n",
        "promedio = suma / cantidad_numeros\n",
        "\n",
        "print(f\"La suma de los números es: {suma}\")\n",
        "print(f\"El promedio es: {promedio}\")"
      ],
      "metadata": {
        "colab": {
          "base_uri": "https://localhost:8080/"
        },
        "id": "oY0xGYKaFdIK",
        "outputId": "83b0114c-87f3-43af-e81a-dc2b081b1f48"
      },
      "execution_count": 47,
      "outputs": [
        {
          "output_type": "stream",
          "name": "stdout",
          "text": [
            "Ingrese la cantidad de números: 1\n",
            "Ingrese el número 1: 2\n",
            "La suma de los números es: 2\n",
            "El promedio es: 2.0\n"
          ]
        }
      ]
    },
    {
      "cell_type": "markdown",
      "source": [
        "5. Dada una lista de diccionarios que representan productos con su nombre y precio, calcula la suma total de los precios de todos los productos ."
      ],
      "metadata": {
        "id": "2kM_VGJhH8Rl"
      }
    },
    {
      "cell_type": "code",
      "source": [
        "productos = [\n",
        "    {\"nombre_del_producto\": \"Camisa\", \"precio\": 25.7},\n",
        "    {\"nombre_del_producto\": \"Pantalón\", \"precio\": 50.6},\n",
        "    {\"nombre_del_producto\": \"Zapatos\", \"precio\": 100}\n",
        "]\n",
        "\n",
        "suma_total = 0\n",
        "\n",
        "for producto in productos:\n",
        "\n",
        "  suma_total += producto[\"precio\"]\n",
        "\n",
        "print(f\"La suma total de los precios es : ${suma_total}\")"
      ],
      "metadata": {
        "colab": {
          "base_uri": "https://localhost:8080/"
        },
        "id": "uXSDaUl9H8-0",
        "outputId": "bca1609a-9f4d-4450-e9ca-f487d35cc490"
      },
      "execution_count": 53,
      "outputs": [
        {
          "output_type": "stream",
          "name": "stdout",
          "text": [
            "La suma total de los precios es : $176.3\n"
          ]
        }
      ]
    }
  ]
}