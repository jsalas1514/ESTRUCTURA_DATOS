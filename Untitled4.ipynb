{
  "nbformat": 4,
  "nbformat_minor": 0,
  "metadata": {
    "colab": {
      "provenance": [],
      "authorship_tag": "ABX9TyOQJK3KMJp/HIphBjSHLXQ1",
      "include_colab_link": true
    },
    "kernelspec": {
      "name": "python3",
      "display_name": "Python 3"
    },
    "language_info": {
      "name": "python"
    }
  },
  "cells": [
    {
      "cell_type": "markdown",
      "metadata": {
        "id": "view-in-github",
        "colab_type": "text"
      },
      "source": [
        "<a href=\"https://colab.research.google.com/github/jsalas1514/ESTRUCTURA_DATOS/blob/main/Untitled4.ipynb\" target=\"_parent\"><img src=\"https://colab.research.google.com/assets/colab-badge.svg\" alt=\"Open In Colab\"/></a>"
      ]
    },
    {
      "cell_type": "code",
      "source": [
        "\n",
        "class Nodo:\n",
        "    def __init__(self, camisa, zapatos, pantalones):\n",
        "        self.camisa = camisa\n",
        "        self.zapatos = zapatos\n",
        "        self.pantalones = pantalones\n",
        "        self.siguiente = None\n",
        "\n",
        "class ListaSimple:\n",
        "    def __init__(self):\n",
        "        self.cabeza = None\n",
        "\n",
        "    def insertar(self, camisa, zapatos, pantalones):\n",
        "        nuevo_nodo = Nodo(camisa, zapatos, pantalones)\n",
        "        if not self.cabeza:\n",
        "            self.cabeza = nuevo_nodo\n",
        "        else:\n",
        "            actual = self.cabeza\n",
        "            while actual.siguiente:\n",
        "                actual = actual.siguiente\n",
        "            actual.siguiente = nuevo_nodo\n",
        "\n",
        "    def mostrar(self):\n",
        "        if not self.cabeza:\n",
        "            print(\"Eso es todo\")\n",
        "            return\n",
        "        actual = self.cabeza\n",
        "        while actual:\n",
        "            print(f\"Camisa: {actual.camisa}, Zapatos: {actual.zapatos}, Pantalones: {actual.pantalones}\")\n",
        "            actual = actual.siguiente\n",
        "\n",
        "ropa = ListaSimple()\n",
        "\n",
        "datos_ingresar= int(input(\"¿Cuantos outiftis desea ingresar: \"))\n",
        "for i in range (datos_ingresar):\n",
        "\n",
        "    ropa.insertar(input(\"ingresar camisa : \"), input(\"ingrese zapato:  \"), input(\"ingrese pantalon:  \"))\n",
        "\n",
        "#mostrar datos\n",
        "\n",
        "print(\"su outift es:\")\n",
        "ropa.mostrar()"
      ],
      "metadata": {
        "id": "VSqVjyU-OPSj"
      },
      "execution_count": null,
      "outputs": []
    },
    {
      "cell_type": "code",
      "execution_count": 2,
      "metadata": {
        "colab": {
          "base_uri": "https://localhost:8080/",
          "height": 408
        },
        "id": "WnwhiZ0POHsR",
        "outputId": "a7ac9d35-4cf2-430a-cd90-32998b84f0b6"
      },
      "outputs": [
        {
          "output_type": "error",
          "ename": "KeyboardInterrupt",
          "evalue": "Interrupted by user",
          "traceback": [
            "\u001b[0;31m---------------------------------------------------------------------------\u001b[0m",
            "\u001b[0;31mKeyboardInterrupt\u001b[0m                         Traceback (most recent call last)",
            "\u001b[0;32m<ipython-input-2-90b1e789fcdb>\u001b[0m in \u001b[0;36m<cell line: 41>\u001b[0;34m()\u001b[0m\n\u001b[1;32m     39\u001b[0m \u001b[0;34m\u001b[0m\u001b[0m\n\u001b[1;32m     40\u001b[0m \u001b[0;34m\u001b[0m\u001b[0m\n\u001b[0;32m---> 41\u001b[0;31m \u001b[0mdatos_ingresar\u001b[0m\u001b[0;34m=\u001b[0m \u001b[0mint\u001b[0m\u001b[0;34m(\u001b[0m\u001b[0minput\u001b[0m\u001b[0;34m(\u001b[0m\u001b[0;34m\"¿Cuantas personas desea ingresar por nodo: \"\u001b[0m\u001b[0;34m)\u001b[0m\u001b[0;34m)\u001b[0m\u001b[0;34m\u001b[0m\u001b[0;34m\u001b[0m\u001b[0m\n\u001b[0m\u001b[1;32m     42\u001b[0m \u001b[0;32mfor\u001b[0m \u001b[0mi\u001b[0m \u001b[0;32min\u001b[0m \u001b[0mrange\u001b[0m \u001b[0;34m(\u001b[0m\u001b[0mdatos_ingresar\u001b[0m\u001b[0;34m)\u001b[0m\u001b[0;34m:\u001b[0m\u001b[0;34m\u001b[0m\u001b[0;34m\u001b[0m\u001b[0m\n\u001b[1;32m     43\u001b[0m     \u001b[0mpersona\u001b[0m\u001b[0;34m.\u001b[0m\u001b[0minsertar\u001b[0m\u001b[0;34m(\u001b[0m\u001b[0minput\u001b[0m\u001b[0;34m(\u001b[0m\u001b[0;34mf\"ingresar nombre : {i}\"\u001b[0m\u001b[0;34m)\u001b[0m\u001b[0;34m,\u001b[0m \u001b[0minput\u001b[0m\u001b[0;34m(\u001b[0m\u001b[0;34mf\"ingrese apellido: {i} \"\u001b[0m\u001b[0;34m)\u001b[0m\u001b[0;34m,\u001b[0m \u001b[0minput\u001b[0m\u001b[0;34m(\u001b[0m\u001b[0;34mf\"ingrese nrc: {i} \"\u001b[0m\u001b[0;34m)\u001b[0m\u001b[0;34m,\u001b[0m \u001b[0minput\u001b[0m\u001b[0;34m(\u001b[0m\u001b[0;34mf\"ingrese id: {i} \"\u001b[0m\u001b[0;34m)\u001b[0m\u001b[0;34m,\u001b[0m \u001b[0minput\u001b[0m\u001b[0;34m(\u001b[0m\u001b[0;34mf\"ingrese programa: {i} \"\u001b[0m\u001b[0;34m)\u001b[0m\u001b[0;34m,\u001b[0m \u001b[0minput\u001b[0m\u001b[0;34m(\u001b[0m\u001b[0;34mf\"ingrese asignatura: {i} \"\u001b[0m\u001b[0;34m)\u001b[0m\u001b[0;34m)\u001b[0m \u001b[0;31m# Se ha corregido la indentación y se ha cerrado el paréntesis\u001b[0m\u001b[0;34m\u001b[0m\u001b[0;34m\u001b[0m\u001b[0m\n",
            "\u001b[0;32m/usr/local/lib/python3.10/dist-packages/ipykernel/kernelbase.py\u001b[0m in \u001b[0;36mraw_input\u001b[0;34m(self, prompt)\u001b[0m\n\u001b[1;32m    849\u001b[0m                 \u001b[0;34m\"raw_input was called, but this frontend does not support input requests.\"\u001b[0m\u001b[0;34m\u001b[0m\u001b[0;34m\u001b[0m\u001b[0m\n\u001b[1;32m    850\u001b[0m             )\n\u001b[0;32m--> 851\u001b[0;31m         return self._input_request(str(prompt),\n\u001b[0m\u001b[1;32m    852\u001b[0m             \u001b[0mself\u001b[0m\u001b[0;34m.\u001b[0m\u001b[0m_parent_ident\u001b[0m\u001b[0;34m,\u001b[0m\u001b[0;34m\u001b[0m\u001b[0;34m\u001b[0m\u001b[0m\n\u001b[1;32m    853\u001b[0m             \u001b[0mself\u001b[0m\u001b[0;34m.\u001b[0m\u001b[0m_parent_header\u001b[0m\u001b[0;34m,\u001b[0m\u001b[0;34m\u001b[0m\u001b[0;34m\u001b[0m\u001b[0m\n",
            "\u001b[0;32m/usr/local/lib/python3.10/dist-packages/ipykernel/kernelbase.py\u001b[0m in \u001b[0;36m_input_request\u001b[0;34m(self, prompt, ident, parent, password)\u001b[0m\n\u001b[1;32m    893\u001b[0m             \u001b[0;32mexcept\u001b[0m \u001b[0mKeyboardInterrupt\u001b[0m\u001b[0;34m:\u001b[0m\u001b[0;34m\u001b[0m\u001b[0;34m\u001b[0m\u001b[0m\n\u001b[1;32m    894\u001b[0m                 \u001b[0;31m# re-raise KeyboardInterrupt, to truncate traceback\u001b[0m\u001b[0;34m\u001b[0m\u001b[0;34m\u001b[0m\u001b[0m\n\u001b[0;32m--> 895\u001b[0;31m                 \u001b[0;32mraise\u001b[0m \u001b[0mKeyboardInterrupt\u001b[0m\u001b[0;34m(\u001b[0m\u001b[0;34m\"Interrupted by user\"\u001b[0m\u001b[0;34m)\u001b[0m \u001b[0;32mfrom\u001b[0m \u001b[0;32mNone\u001b[0m\u001b[0;34m\u001b[0m\u001b[0;34m\u001b[0m\u001b[0m\n\u001b[0m\u001b[1;32m    896\u001b[0m             \u001b[0;32mexcept\u001b[0m \u001b[0mException\u001b[0m \u001b[0;32mas\u001b[0m \u001b[0me\u001b[0m\u001b[0;34m:\u001b[0m\u001b[0;34m\u001b[0m\u001b[0;34m\u001b[0m\u001b[0m\n\u001b[1;32m    897\u001b[0m                 \u001b[0mself\u001b[0m\u001b[0;34m.\u001b[0m\u001b[0mlog\u001b[0m\u001b[0;34m.\u001b[0m\u001b[0mwarning\u001b[0m\u001b[0;34m(\u001b[0m\u001b[0;34m\"Invalid Message:\"\u001b[0m\u001b[0;34m,\u001b[0m \u001b[0mexc_info\u001b[0m\u001b[0;34m=\u001b[0m\u001b[0;32mTrue\u001b[0m\u001b[0;34m)\u001b[0m\u001b[0;34m\u001b[0m\u001b[0;34m\u001b[0m\u001b[0m\n",
            "\u001b[0;31mKeyboardInterrupt\u001b[0m: Interrupted by user"
          ]
        }
      ],
      "source": [
        "\n",
        "class Nodo:\n",
        "    def __init__(self, nombre, apellido, nrc, id, programa, asignatura):\n",
        "        self.nombre= nombre\n",
        "        self.apellido = apellido\n",
        "        self.nrc = nrc\n",
        "        self.id = id\n",
        "        self.programa = programa\n",
        "        self.asignatura = asignatura\n",
        "        self.siguiente = None\n",
        "\n",
        "\n",
        "class ListaSimple:\n",
        "    def __init__(self):\n",
        "        self.cabeza = None\n",
        "\n",
        "\n",
        "    def insertar(self, nombre, apellido, nrc, id, programa, asignatura):\n",
        "        nuevo_nodo = Nodo(nombre,apellido, nrc, id, programa, asignatura)\n",
        "        if not self.cabeza:\n",
        "            self.cabeza = nuevo_nodo\n",
        "        else:\n",
        "            actual = self.cabeza\n",
        "            while actual.siguiente:\n",
        "                actual = actual.siguiente\n",
        "            actual.siguiente = nuevo_nodo\n",
        "\n",
        "\n",
        "    def mostrar(self):\n",
        "        if not self.cabeza:\n",
        "            print(\"La lista está vacía.\")\n",
        "            return\n",
        "        actual = self.cabeza\n",
        "        while actual:\n",
        "            print(f\"nombre:{actual.nombre}, apellido: {actual.apellido}, nrc: {actual.nrc}, id: {actual.id}, programa:{actual.programa}, asignatura:{actual.asignatura} \")\n",
        "            actual = actual.siguiente\n",
        "        print(\"None\")\n",
        "\n",
        "persona = ListaSimple()\n",
        "\n",
        "\n",
        "datos_ingresar= int(input(\"¿Cuantas personas desea ingresar por nodo: \"))\n",
        "for i in range (datos_ingresar):\n",
        "    persona.insertar(input(f\"ingresar nombre : {i}\"), input(f\"ingrese apellido: {i} \"), input(f\"ingrese nrc: {i} \"), input(f\"ingrese id: {i} \"), input(f\"ingrese programa: {i} \"), input(f\"ingrese asignatura: {i} \")) # Se ha corregido la indentación y se ha cerrado el paréntesis\n",
        "\n",
        "persona.mostrar()\n"
      ]
    },
    {
      "cell_type": "code",
      "source": [
        "\n",
        "class Nodo:\n",
        "    def __init__(self, tipo, cantidad):\n",
        "        self.tipo = tipo\n",
        "        self.cantidad = cantidad\n",
        "        self.siguiente = None\n",
        "\n",
        "class ListaSimple:\n",
        "    def __init__(self):\n",
        "        self.cabeza = None\n",
        "\n",
        "    def insertar(self, tipo, cantidad):\n",
        "        nuevo_nodo = Nodo(tipo, cantidad)\n",
        "        if not self.cabeza:\n",
        "            self.cabeza = nuevo_nodo\n",
        "        else:\n",
        "            actual = self.cabeza\n",
        "            while actual.siguiente:\n",
        "                actual = actual.siguiente\n",
        "            actual.siguiente = nuevo_nodo\n",
        "\n",
        "    def mostrar(self):\n",
        "        if not self.cabeza:\n",
        "            print(\"La lista está vacía.\")\n",
        "            return\n",
        "        actual = self.cabeza\n",
        "        while actual:\n",
        "            print(f\"Tipo: {actual.tipo}, Cantidad: {actual.cantidad}\")\n",
        "            actual = actual.siguiente\n",
        "\n",
        "\n",
        "inventario = ListaSimple()\n",
        "\n",
        "num_elementos = int(input(\"¿Cuántos elementos desea ingresar al inventario? \"))\n",
        "\n",
        "for _ in range(num_elementos):\n",
        "    tipo = input(\"Ingrese el tipo de elemento: \")\n",
        "    cantidad = int(input(f\"Ingrese la cantidad de {tipo}: \"))\n",
        "    inventario.insertar(tipo, cantidad)\n",
        "\n",
        "# Mostrar el inventario\n",
        "inventario.mostrar()"
      ],
      "metadata": {
        "id": "2J3EzaM_OTey"
      },
      "execution_count": null,
      "outputs": []
    },
    {
      "cell_type": "code",
      "source": [
        "class NodoTikToker:\n",
        "    def __init__(self, nombre_famoso, cantidad_tiktoksubidos):\n",
        "        self.nombre_famoso = nombre_famoso\n",
        "        self.cantidad_tiktoksubidos = cantidad_tiktoksubidos\n",
        "        self.siguiente = None\n",
        "\n",
        "class ListaTikTokers:\n",
        "    def __init__(self):\n",
        "        self.cabeza = None\n",
        "\n",
        "    def insertar(self, nombre_famoso, cantidad_tiktoksubidos):\n",
        "        nuevo_nodo = NodoTikToker(nombre_famoso, cantidad_tiktoksubidos)\n",
        "        if not self.cabeza:\n",
        "            self.cabeza = nuevo_nodo\n",
        "        else:\n",
        "            actual = self.cabeza\n",
        "            while actual.siguiente:\n",
        "                actual = actual.siguiente\n",
        "            actual.siguiente = nuevo_nodo\n",
        "\n",
        "    def mostrar(self):\n",
        "        if not self.cabeza:\n",
        "            print(\"La lista está vacía.\")\n",
        "            return\n",
        "        actual = self.cabeza\n",
        "        while actual:\n",
        "            print(f\"Nombre: {actual.nombre_famoso}, TikToks subidos: {actual.cantidad_tiktoksubidos}\")\n",
        "            actual = actual.siguiente\n",
        "\n",
        "tiktokers = ListaTikTokers()\n",
        "\n",
        "tiktokers.insertar(\"Ronaldo Lima\", 3)\n",
        "tiktokers.insertar(\"Khaby Lame\", 1400)\n",
        "tiktokers.insertar(\"Addison Rae\", 1000)\n",
        "\n",
        "\n",
        "tiktokers.mostrar()"
      ],
      "metadata": {
        "id": "GRhNC7u7OYFK"
      },
      "execution_count": null,
      "outputs": []
    }
  ]
}