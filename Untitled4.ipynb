{
  "nbformat": 4,
  "nbformat_minor": 0,
  "metadata": {
    "colab": {
      "provenance": [],
      "authorship_tag": "ABX9TyOQJK3KMJp/HIphBjSHLXQ1",
      "include_colab_link": true
    },
    "kernelspec": {
      "name": "python3",
      "display_name": "Python 3"
    },
    "language_info": {
      "name": "python"
    }
  },
  "cells": [
    {
      "cell_type": "markdown",
      "metadata": {
        "id": "view-in-github",
        "colab_type": "text"
      },
      "source": [
        "<a href=\"https://colab.research.google.com/github/jsalas1514/ESTRUCTURA_DATOS/blob/main/Untitled4.ipynb\" target=\"_parent\"><img src=\"https://colab.research.google.com/assets/colab-badge.svg\" alt=\"Open In Colab\"/></a>"
      ]
    },
    {
      "cell_type": "code",
      "source": [
        "\n",
        "class Nodo:\n",
        "    def __init__(self, camisa, zapatos, pantalones):\n",
        "        self.camisa = camisa\n",
        "        self.zapatos = zapatos\n",
        "        self.pantalones = pantalones\n",
        "        self.siguiente = None\n",
        "\n",
        "class ListaSimple:\n",
        "    def __init__(self):\n",
        "        self.cabeza = None\n",
        "\n",
        "    def insertar(self, camisa, zapatos, pantalones):\n",
        "        nuevo_nodo = Nodo(camisa, zapatos, pantalones)\n",
        "        if not self.cabeza:\n",
        "            self.cabeza = nuevo_nodo\n",
        "        else:\n",
        "            actual = self.cabeza\n",
        "            while actual.siguiente:\n",
        "                actual = actual.siguiente\n",
        "            actual.siguiente = nuevo_nodo\n",
        "\n",
        "    def mostrar(self):\n",
        "        if not self.cabeza:\n",
        "            print(\"Eso es todo\")\n",
        "            return\n",
        "        actual = self.cabeza\n",
        "        while actual:\n",
        "            print(f\"Camisa: {actual.camisa}, Zapatos: {actual.zapatos}, Pantalones: {actual.pantalones}\")\n",
        "            actual = actual.siguiente\n",
        "\n",
        "ropa = ListaSimple()\n",
        "\n",
        "datos_ingresar= int(input(\"¿Cuantos outiftis desea ingresar: \"))\n",
        "for i in range (datos_ingresar):\n",
        "\n",
        "    ropa.insertar(input(\"ingresar camisa : \"), input(\"ingrese zapato:  \"), input(\"ingrese pantalon:  \"))\n",
        "\n",
        "#mostrar datos\n",
        "\n",
        "print(\"su outift es:\")\n",
        "ropa.mostrar()"
      ],
      "metadata": {
        "colab": {
          "base_uri": "https://localhost:8080/"
        },
        "id": "VSqVjyU-OPSj",
        "outputId": "0acf55cc-ac61-4193-97bc-afc9e51996f1"
      },
      "execution_count": 3,
      "outputs": [
        {
          "output_type": "stream",
          "name": "stdout",
          "text": [
            "¿Cuantos outiftis desea ingresar: 1\n",
            "ingresar camisa : AZUL\n",
            "ingrese zapato:  CHANCLAS\n",
            "ingrese pantalon:  BERMUDA\n",
            "su outift es:\n",
            "Camisa: AZUL, Zapatos: CHANCLAS, Pantalones: BERMUDA\n"
          ]
        }
      ]
    },
    {
      "cell_type": "code",
      "execution_count": 4,
      "metadata": {
        "colab": {
          "base_uri": "https://localhost:8080/"
        },
        "id": "WnwhiZ0POHsR",
        "outputId": "7f84503d-cbd4-49d6-cfd0-c1f51ac53255"
      },
      "outputs": [
        {
          "output_type": "stream",
          "name": "stdout",
          "text": [
            "¿Cuantas personas desea ingresar por nodo: 1\n",
            "ingresar nombre : 0JULIAN\n",
            "ingrese apellido: 0 SALAS\n",
            "ingrese nrc: 0 1512\n",
            "ingrese id: 0 887163\n",
            "ingrese programa: 0 ING SISTEMAS\n",
            "ingrese asignatura: 0 ESTRUCTURA\n",
            "nombre:JULIAN, apellido: SALAS, nrc: 1512, id: 887163, programa:ING SISTEMAS, asignatura:ESTRUCTURA \n",
            "None\n"
          ]
        }
      ],
      "source": [
        "\n",
        "class Nodo:\n",
        "    def __init__(self, nombre, apellido, nrc, id, programa, asignatura):\n",
        "        self.nombre= nombre\n",
        "        self.apellido = apellido\n",
        "        self.nrc = nrc\n",
        "        self.id = id\n",
        "        self.programa = programa\n",
        "        self.asignatura = asignatura\n",
        "        self.siguiente = None\n",
        "\n",
        "\n",
        "class ListaSimple:\n",
        "    def __init__(self):\n",
        "        self.cabeza = None\n",
        "\n",
        "\n",
        "    def insertar(self, nombre, apellido, nrc, id, programa, asignatura):\n",
        "        nuevo_nodo = Nodo(nombre,apellido, nrc, id, programa, asignatura)\n",
        "        if not self.cabeza:\n",
        "            self.cabeza = nuevo_nodo\n",
        "        else:\n",
        "            actual = self.cabeza\n",
        "            while actual.siguiente:\n",
        "                actual = actual.siguiente\n",
        "            actual.siguiente = nuevo_nodo\n",
        "\n",
        "\n",
        "    def mostrar(self):\n",
        "        if not self.cabeza:\n",
        "            print(\"La lista está vacía.\")\n",
        "            return\n",
        "        actual = self.cabeza\n",
        "        while actual:\n",
        "            print(f\"nombre:{actual.nombre}, apellido: {actual.apellido}, nrc: {actual.nrc}, id: {actual.id}, programa:{actual.programa}, asignatura:{actual.asignatura} \")\n",
        "            actual = actual.siguiente\n",
        "        print(\"None\")\n",
        "\n",
        "persona = ListaSimple()\n",
        "\n",
        "\n",
        "datos_ingresar= int(input(\"¿Cuantas personas desea ingresar por nodo: \"))\n",
        "for i in range (datos_ingresar):\n",
        "    persona.insertar(input(f\"ingresar nombre : {i}\"), input(f\"ingrese apellido: {i} \"), input(f\"ingrese nrc: {i} \"), input(f\"ingrese id: {i} \"), input(f\"ingrese programa: {i} \"), input(f\"ingrese asignatura: {i} \")) # Se ha corregido la indentación y se ha cerrado el paréntesis\n",
        "\n",
        "persona.mostrar()\n"
      ]
    },
    {
      "cell_type": "code",
      "source": [
        "\n",
        "class Nodo:\n",
        "    def __init__(self, tipo, cantidad):\n",
        "        self.tipo = tipo\n",
        "        self.cantidad = cantidad\n",
        "        self.siguiente = None\n",
        "\n",
        "class ListaSimple:\n",
        "    def __init__(self):\n",
        "        self.cabeza = None\n",
        "\n",
        "    def insertar(self, tipo, cantidad):\n",
        "        nuevo_nodo = Nodo(tipo, cantidad)\n",
        "        if not self.cabeza:\n",
        "            self.cabeza = nuevo_nodo\n",
        "        else:\n",
        "            actual = self.cabeza\n",
        "            while actual.siguiente:\n",
        "                actual = actual.siguiente\n",
        "            actual.siguiente = nuevo_nodo\n",
        "\n",
        "    def mostrar(self):\n",
        "        if not self.cabeza:\n",
        "            print(\"La lista está vacía.\")\n",
        "            return\n",
        "        actual = self.cabeza\n",
        "        while actual:\n",
        "            print(f\"Tipo: {actual.tipo}, Cantidad: {actual.cantidad}\")\n",
        "            actual = actual.siguiente\n",
        "\n",
        "\n",
        "inventario = ListaSimple()\n",
        "\n",
        "num_elementos = int(input(\"¿Cuántos elementos desea ingresar al inventario? \"))\n",
        "\n",
        "for _ in range(num_elementos):\n",
        "    tipo = input(\"Ingrese el tipo de elemento: \")\n",
        "    cantidad = int(input(f\"Ingrese la cantidad de {tipo}: \"))\n",
        "    inventario.insertar(tipo, cantidad)\n",
        "\n",
        "# Mostrar el inventario\n",
        "inventario.mostrar()"
      ],
      "metadata": {
        "id": "2J3EzaM_OTey"
      },
      "execution_count": null,
      "outputs": []
    },
    {
      "cell_type": "code",
      "source": [
        "class NodoTikToker:\n",
        "    def __init__(self, nombre_famoso, cantidad_tiktoksubidos):\n",
        "        self.nombre_famoso = nombre_famoso\n",
        "        self.cantidad_tiktoksubidos = cantidad_tiktoksubidos\n",
        "        self.siguiente = None\n",
        "\n",
        "class ListaTikTokers:\n",
        "    def __init__(self):\n",
        "        self.cabeza = None\n",
        "\n",
        "    def insertar(self, nombre_famoso, cantidad_tiktoksubidos):\n",
        "        nuevo_nodo = NodoTikToker(nombre_famoso, cantidad_tiktoksubidos)\n",
        "        if not self.cabeza:\n",
        "            self.cabeza = nuevo_nodo\n",
        "        else:\n",
        "            actual = self.cabeza\n",
        "            while actual.siguiente:\n",
        "                actual = actual.siguiente\n",
        "            actual.siguiente = nuevo_nodo\n",
        "\n",
        "    def mostrar(self):\n",
        "        if not self.cabeza:\n",
        "            print(\"La lista está vacía.\")\n",
        "            return\n",
        "        actual = self.cabeza\n",
        "        while actual:\n",
        "            print(f\"Nombre: {actual.nombre_famoso}, TikToks subidos: {actual.cantidad_tiktoksubidos}\")\n",
        "            actual = actual.siguiente\n",
        "\n",
        "tiktokers = ListaTikTokers()\n",
        "\n",
        "tiktokers.insertar(\"Ronaldo Lima\", 3)\n",
        "tiktokers.insertar(\"Khaby Lame\", 1400)\n",
        "tiktokers.insertar(\"Addison Rae\", 1000)\n",
        "\n",
        "\n",
        "tiktokers.mostrar()"
      ],
      "metadata": {
        "id": "GRhNC7u7OYFK"
      },
      "execution_count": null,
      "outputs": []
    }
  ]
}